{
 "cells": [
  {
   "cell_type": "code",
   "execution_count": 1,
   "metadata": {},
   "outputs": [],
   "source": [
    "import cv2 as cv\n",
    "import numpy as np\n",
    "import caer"
   ]
  },
  {
   "cell_type": "code",
   "execution_count": 2,
   "metadata": {},
   "outputs": [
    {
     "name": "stdout",
     "output_type": "stream",
     "text": [
      "Python 3.7.6\n"
     ]
    }
   ],
   "source": [
    "!python --version"
   ]
  },
  {
   "cell_type": "code",
   "execution_count": 18,
   "metadata": {},
   "outputs": [],
   "source": [
    "#reading the image\n",
    "img = cv.imread('00.jpg')\n",
    "\n",
    "#desplay the image\n",
    "cv.imshow('Image', img)\n",
    "cv.waitKey(0)\n",
    "cv.destroyAllWindows()"
   ]
  },
  {
   "cell_type": "code",
   "execution_count": 11,
   "metadata": {},
   "outputs": [],
   "source": [
    "#reading the video from file\n",
    "capture = cv.VideoCapture('car2.mp4')\n",
    "while True:\n",
    "    isTrue, frame = capture.read()\n",
    "    \n",
    "    #dispalying the video\n",
    "    cv.imshow('Frame', frame)\n",
    "    if cv.waitKey(20) & 0xFF==ord('d'):\n",
    "        break\n",
    "capture.release()\n",
    "cv.destroyAllWindows()"
   ]
  },
  {
   "cell_type": "code",
   "execution_count": 14,
   "metadata": {},
   "outputs": [],
   "source": [
    "#reading the video from webcam\n",
    "capture = cv.VideoCapture(0)\n",
    "while True:\n",
    "    isTrue, frame = capture.read()\n",
    "    \n",
    "    #dispalying the video\n",
    "    cv.imshow('Frame', frame)\n",
    "    if cv.waitKey(20) & 0xFF==ord('d'):\n",
    "        break\n",
    "capture.release()\n",
    "cv.destroyAllWindows()"
   ]
  },
  {
   "cell_type": "markdown",
   "metadata": {},
   "source": [
    "# Rescaling image/frame"
   ]
  },
  {
   "cell_type": "code",
   "execution_count": 20,
   "metadata": {},
   "outputs": [],
   "source": [
    "#Function to rescale the frame/image\n",
    "#this will work for images, videos and live videos\n",
    "def rescaleFrame(frame, scale = 0.75):\n",
    "    width = int(frame.shape[1]*scale)\n",
    "    height = int(frame.shape[0]*scale)\n",
    "    dimensions = (width,height)\n",
    "    out = cv.resize(frame, dimensions, interpolation = cv.INTER_AREA)\n",
    "    return out"
   ]
  },
  {
   "cell_type": "code",
   "execution_count": 26,
   "metadata": {},
   "outputs": [],
   "source": [
    "#testing on image\n",
    "img = cv.imread('00.jpg')\n",
    "img2 = rescaleFrame(img, 0.5)\n",
    "#desplay the image\n",
    "cv.imshow('Image', img)\n",
    "cv.imshow('Image2', img2)\n",
    "cv.waitKey(0)\n",
    "cv.destroyAllWindows()"
   ]
  },
  {
   "cell_type": "code",
   "execution_count": 27,
   "metadata": {},
   "outputs": [],
   "source": [
    "#testing on video\n",
    "capture = cv.VideoCapture('car2.mp4')\n",
    "while True:\n",
    "    isTrue, frame = capture.read()\n",
    "    frame2 = rescaleFrame(frame, 0.2)\n",
    "    \n",
    "    #dispalying the video\n",
    "    cv.imshow('Frame', frame)\n",
    "    cv.imshow('Frame2', frame2)\n",
    "    if cv.waitKey(20) & 0xFF==ord('d'):\n",
    "        break\n",
    "capture.release()\n",
    "cv.destroyAllWindows()"
   ]
  },
  {
   "cell_type": "markdown",
   "metadata": {},
   "source": [
    "# Changing resolution"
   ]
  },
  {
   "cell_type": "code",
   "execution_count": 28,
   "metadata": {},
   "outputs": [],
   "source": [
    "#this will only work for live videos\n",
    "def changeRes(width, height):\n",
    "    capture.set(3, width)\n",
    "    capture.set(4, height)\n",
    "    return capture"
   ]
  },
  {
   "cell_type": "code",
   "execution_count": null,
   "metadata": {},
   "outputs": [],
   "source": [
    "#testing on video\n",
    "capture = cv.VideoCapture(0)\n",
    "while True:\n",
    "    isTrue, frame = capture.read()\n",
    "    frame2 = rescaleFrame(frame, 0.2)\n",
    "    \n",
    "    #dispalying the video\n",
    "    cv.imshow('Frame', frame)\n",
    "    cv.imshow('Frame2', frame2)\n",
    "    if cv.waitKey(20) & 0xFF==ord('d'):\n",
    "        break\n",
    "capture.release()\n",
    "cv.destroyAllWindows()"
   ]
  },
  {
   "cell_type": "code",
   "execution_count": null,
   "metadata": {},
   "outputs": [],
   "source": []
  }
 ],
 "metadata": {
  "kernelspec": {
   "display_name": "Python 3",
   "language": "python",
   "name": "python3"
  },
  "language_info": {
   "codemirror_mode": {
    "name": "ipython",
    "version": 3
   },
   "file_extension": ".py",
   "mimetype": "text/x-python",
   "name": "python",
   "nbconvert_exporter": "python",
   "pygments_lexer": "ipython3",
   "version": "3.7.6"
  }
 },
 "nbformat": 4,
 "nbformat_minor": 4
}
