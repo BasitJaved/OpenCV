{
 "cells": [
  {
   "cell_type": "markdown",
   "metadata": {},
   "source": [
    "# OpenCV FreeCodeCamp training Implementation\n",
    "\n",
    "In this Tutorial of OpenCv we included code on how to\n",
    "\n",
    "Import OpenCV\n",
    "\n",
    "Read an Image\n",
    "\n",
    "Read a video File\n",
    "\n",
    "Read video from webcam\n",
    "\n",
    "Rescal image/frame\n",
    "\n",
    "Draw and write on images\n",
    "\n",
    "Converting image to Greyscale\n",
    "\n",
    "Blurring the image\n",
    "\n",
    "Create Edge Cascade\n",
    "\n",
    "How to Dilate an image\n",
    "\n",
    "Resize the image\n",
    "\n",
    "Cropping the image"
   ]
  },
  {
   "cell_type": "code",
   "execution_count": 1,
   "metadata": {},
   "outputs": [],
   "source": [
    "import cv2 as cv\n",
    "import numpy as np\n",
    "import caer"
   ]
  },
  {
   "cell_type": "code",
   "execution_count": 2,
   "metadata": {},
   "outputs": [
    {
     "name": "stdout",
     "output_type": "stream",
     "text": [
      "Python 3.7.6\n"
     ]
    }
   ],
   "source": [
    "!python --version"
   ]
  },
  {
   "cell_type": "code",
   "execution_count": 18,
   "metadata": {},
   "outputs": [],
   "source": [
    "#reading the image\n",
    "img = cv.imread('00.jpg')\n",
    "\n",
    "#desplay the image\n",
    "cv.imshow('Image', img)\n",
    "cv.waitKey(0)\n",
    "cv.destroyAllWindows()"
   ]
  },
  {
   "cell_type": "code",
   "execution_count": 11,
   "metadata": {},
   "outputs": [],
   "source": [
    "#reading the video from file\n",
    "capture = cv.VideoCapture('car2.mp4')\n",
    "while True:\n",
    "    isTrue, frame = capture.read()\n",
    "    \n",
    "    #dispalying the video\n",
    "    cv.imshow('Frame', frame)\n",
    "    if cv.waitKey(20) & 0xFF==ord('d'):\n",
    "        break\n",
    "capture.release()\n",
    "cv.destroyAllWindows()"
   ]
  },
  {
   "cell_type": "code",
   "execution_count": 14,
   "metadata": {},
   "outputs": [],
   "source": [
    "#reading the video from webcam\n",
    "capture = cv.VideoCapture(0)\n",
    "while True:\n",
    "    isTrue, frame = capture.read()\n",
    "    \n",
    "    #dispalying the video\n",
    "    cv.imshow('Frame', frame)\n",
    "    if cv.waitKey(20) & 0xFF==ord('d'):\n",
    "        break\n",
    "capture.release()\n",
    "cv.destroyAllWindows()"
   ]
  },
  {
   "cell_type": "markdown",
   "metadata": {},
   "source": [
    "# Rescaling image/frame"
   ]
  },
  {
   "cell_type": "code",
   "execution_count": 20,
   "metadata": {},
   "outputs": [],
   "source": [
    "#Function to rescale the frame/image\n",
    "#this will work for images, videos and live videos\n",
    "def rescaleFrame(frame, scale = 0.75):\n",
    "    width = int(frame.shape[1]*scale)\n",
    "    height = int(frame.shape[0]*scale)\n",
    "    dimensions = (width,height)\n",
    "    out = cv.resize(frame, dimensions, interpolation = cv.INTER_AREA)\n",
    "    return out"
   ]
  },
  {
   "cell_type": "code",
   "execution_count": 26,
   "metadata": {},
   "outputs": [],
   "source": [
    "#testing on image\n",
    "img = cv.imread('00.jpg')\n",
    "img2 = rescaleFrame(img, 0.5)\n",
    "#desplay the image\n",
    "cv.imshow('Image', img)\n",
    "cv.imshow('Image2', img2)\n",
    "cv.waitKey(0)\n",
    "cv.destroyAllWindows()"
   ]
  },
  {
   "cell_type": "code",
   "execution_count": 27,
   "metadata": {},
   "outputs": [],
   "source": [
    "#testing on video\n",
    "capture = cv.VideoCapture('car2.mp4')\n",
    "while True:\n",
    "    isTrue, frame = capture.read()\n",
    "    frame2 = rescaleFrame(frame, 0.2)\n",
    "    \n",
    "    #dispalying the video\n",
    "    cv.imshow('Frame', frame)\n",
    "    cv.imshow('Frame2', frame2)\n",
    "    if cv.waitKey(20) & 0xFF==ord('d'):\n",
    "        break\n",
    "capture.release()\n",
    "cv.destroyAllWindows()"
   ]
  },
  {
   "cell_type": "markdown",
   "metadata": {},
   "source": [
    "# Changing resolution"
   ]
  },
  {
   "cell_type": "code",
   "execution_count": 28,
   "metadata": {},
   "outputs": [],
   "source": [
    "#this will only work for live videos\n",
    "def changeRes(width, height):\n",
    "    capture.set(3, width)\n",
    "    capture.set(4, height)\n",
    "    return capture"
   ]
  },
  {
   "cell_type": "code",
   "execution_count": null,
   "metadata": {},
   "outputs": [],
   "source": [
    "#testing on video\n",
    "capture = cv.VideoCapture(0)\n",
    "while True:\n",
    "    isTrue, frame = capture.read()\n",
    "    frame2 = rescaleFrame(frame, 0.2)\n",
    "    \n",
    "    #dispalying the video\n",
    "    cv.imshow('Frame', frame)\n",
    "    cv.imshow('Frame2', frame2)\n",
    "    if cv.waitKey(20) & 0xFF==ord('d'):\n",
    "        break\n",
    "capture.release()\n",
    "cv.destroyAllWindows()"
   ]
  },
  {
   "cell_type": "markdown",
   "metadata": {},
   "source": [
    "# Draw and write on images"
   ]
  },
  {
   "cell_type": "code",
   "execution_count": 17,
   "metadata": {},
   "outputs": [],
   "source": [
    "#creating a blank image\n",
    "blank = np.zeros((700, 700, 3), dtype = 'uint8')\n",
    "\n",
    "#desplay the image\n",
    "cv.imshow('Image', blank)\n",
    "\n",
    "#paint the image a certain color\n",
    "blank[:]=0, 255, 0\n",
    "cv.imshow('Image1', blank)\n",
    "\n",
    "#paint a certain area in image a certain color\n",
    "blank[200:300, 300:400]=0, 0, 255\n",
    "cv.imshow('Image2', blank)\n",
    "\n",
    "cv.waitKey(0)\n",
    "cv.destroyAllWindows()"
   ]
  },
  {
   "cell_type": "code",
   "execution_count": 19,
   "metadata": {},
   "outputs": [],
   "source": [
    "#draw a rectangle\n",
    "img = cv.imread('00.jpg')\n",
    "\n",
    "cv.rectangle(img, (10, 10), (250, 250), (0, 0, 255), thickness = 1)\n",
    "cv.imshow('Image', img)\n",
    "cv.waitKey(0)\n",
    "cv.destroyAllWindows()"
   ]
  },
  {
   "cell_type": "code",
   "execution_count": 21,
   "metadata": {},
   "outputs": [],
   "source": [
    "#draw a rectangle and fill it\n",
    "img = cv.imread('00.jpg')\n",
    "\n",
    "cv.rectangle(img, (10, 10), (250, 250), (0, 0, 255), thickness = cv.FILLED) #or put -1 in place of filled\n",
    "cv.imshow('Image', img)\n",
    "cv.waitKey(0)\n",
    "cv.destroyAllWindows()"
   ]
  },
  {
   "cell_type": "code",
   "execution_count": 36,
   "metadata": {},
   "outputs": [],
   "source": [
    "#draw a Circle \n",
    "img = cv.imread('road2.jpg')\n",
    "\n",
    "cv.circle(img, (img.shape[1]//2,img.shape[0]//2), 40, (0, 0, 255), thickness = 3) \n",
    "cv.imshow('Image', img)\n",
    "cv.waitKey(0)\n",
    "cv.destroyAllWindows()"
   ]
  },
  {
   "cell_type": "code",
   "execution_count": 37,
   "metadata": {},
   "outputs": [],
   "source": [
    "#draw a Circle and fill it\n",
    "img = cv.imread('road2.jpg')\n",
    "\n",
    "cv.circle(img, (img.shape[1]//2,img.shape[0]//2), 40, (0, 0, 255), thickness = -1) \n",
    "cv.imshow('Image', img)\n",
    "cv.waitKey(0)\n",
    "cv.destroyAllWindows()"
   ]
  },
  {
   "cell_type": "code",
   "execution_count": 41,
   "metadata": {},
   "outputs": [],
   "source": [
    "#draw a line\n",
    "img = cv.imread('road2.jpg')\n",
    "\n",
    "cv.line(img, (0, 0), (img.shape[1]//2,img.shape[0]//2), (0, 0, 255), thickness = 3) \n",
    "cv.imshow('Image', img)\n",
    "cv.waitKey(0)\n",
    "cv.destroyAllWindows()"
   ]
  },
  {
   "cell_type": "code",
   "execution_count": 50,
   "metadata": {},
   "outputs": [],
   "source": [
    "#write text\n",
    "img = cv.imread('road2.jpg')\n",
    "\n",
    "cv.putText(img, 'This is a Road Picture', (img.shape[1]//4,img.shape[0]//2),cv.FONT_HERSHEY_TRIPLEX, \n",
    "           fontScale = 1.45, color = (0, 0, 255),thickness = 3) \n",
    "cv.imshow('Image', img)\n",
    "cv.waitKey(0)\n",
    "cv.destroyAllWindows()"
   ]
  },
  {
   "cell_type": "markdown",
   "metadata": {},
   "source": [
    "# Essential Functions"
   ]
  },
  {
   "cell_type": "markdown",
   "metadata": {},
   "source": [
    "Converting image to Greyscale"
   ]
  },
  {
   "cell_type": "code",
   "execution_count": 52,
   "metadata": {},
   "outputs": [],
   "source": [
    "#Converting image to Greyscale\n",
    "img = cv.imread('road2.jpg')\n",
    "\n",
    "grey = cv.cvtColor(img, cv.COLOR_BGR2GRAY) \n",
    "cv.imshow('Image', img)\n",
    "cv.imshow('Image1', grey)\n",
    "cv.waitKey(0)\n",
    "cv.destroyAllWindows()"
   ]
  },
  {
   "cell_type": "markdown",
   "metadata": {},
   "source": [
    "Blurring the image"
   ]
  },
  {
   "cell_type": "code",
   "execution_count": 55,
   "metadata": {},
   "outputs": [],
   "source": [
    "#Blurring the image\n",
    "img = cv.imread('road2.jpg')\n",
    "\n",
    "blur = cv.GaussianBlur(img, (3,3),cv.BORDER_DEFAULT) #to increase blur increase kernel size e.g(7,7)\n",
    "cv.imshow('Image', img)\n",
    "cv.imshow('Image1', blur)\n",
    "cv.waitKey(0)\n",
    "cv.destroyAllWindows()"
   ]
  },
  {
   "cell_type": "markdown",
   "metadata": {},
   "source": [
    "Create Edge Cascade"
   ]
  },
  {
   "cell_type": "code",
   "execution_count": 66,
   "metadata": {},
   "outputs": [],
   "source": [
    "#canny edge detection\n",
    "img = cv.imread('road2.jpg')\n",
    "\n",
    "canny = cv.Canny(img, 175, 175) #can reduce edges by applying blur first and then canny\n",
    "cv.imshow('Image', img)\n",
    "cv.imshow('Image1', canny)\n",
    "cv.waitKey(0)\n",
    "cv.destroyAllWindows()"
   ]
  },
  {
   "cell_type": "markdown",
   "metadata": {},
   "source": [
    "How to Dilate an image"
   ]
  },
  {
   "cell_type": "code",
   "execution_count": 71,
   "metadata": {},
   "outputs": [],
   "source": [
    "# Dilate an image by applying structuring element\n",
    "img = cv.imread('road2.jpg')\n",
    "\n",
    "#first apply canny and then apply dilate\n",
    "canny = cv.Canny(img, 175, 175) \n",
    "dilated = cv.dilate(canny, (3, 3), iterations = 3)\n",
    "cv.imshow('Image', img)\n",
    "cv.imshow('Image1', dilated)\n",
    "cv.waitKey(0)\n",
    "cv.destroyAllWindows()"
   ]
  },
  {
   "cell_type": "markdown",
   "metadata": {},
   "source": [
    "Eroding the dilated image to get back original canny image"
   ]
  },
  {
   "cell_type": "code",
   "execution_count": 76,
   "metadata": {},
   "outputs": [],
   "source": [
    "#Eroding the dilated image to get back original canny image\n",
    "#img = cv.imread('road2.jpg')\n",
    "img = cv.imread('00.jpg')\n",
    "\n",
    "#first apply canny and then apply dilate then apply erode\n",
    "canny = cv.Canny(img, 175, 175) \n",
    "dilated = cv.dilate(canny, (3, 3), iterations = 3)\n",
    "eroded = cv.erode(dilated, (3, 3), iterations = 3)\n",
    "\n",
    "cv.imshow('Image', img)\n",
    "cv.imshow('Image1', canny)\n",
    "cv.imshow('Image2', dilated)\n",
    "cv.imshow('Image3', eroded)\n",
    "cv.waitKey(0)\n",
    "cv.destroyAllWindows()"
   ]
  },
  {
   "cell_type": "markdown",
   "metadata": {},
   "source": [
    "Resize the image"
   ]
  },
  {
   "cell_type": "code",
   "execution_count": 79,
   "metadata": {},
   "outputs": [],
   "source": [
    "# Resizing\n",
    "img = cv.imread('road2.jpg')\n",
    "\n",
    "resized = cv.resize(img, (500, 500), interpolation = cv.INTER_CUBIC)\n",
    "cv.imshow('Image', img)\n",
    "cv.imshow('Image1', resized)\n",
    "cv.waitKey(0)\n",
    "cv.destroyAllWindows()"
   ]
  },
  {
   "cell_type": "markdown",
   "metadata": {},
   "source": [
    "Cropping the image"
   ]
  },
  {
   "cell_type": "code",
   "execution_count": 80,
   "metadata": {},
   "outputs": [],
   "source": [
    "# Cropping\n",
    "img = cv.imread('road2.jpg')\n",
    "\n",
    "cropped = img[0:800, 0:800]\n",
    "cv.imshow('Image', img)\n",
    "cv.imshow('Image1', cropped)\n",
    "cv.waitKey(0)\n",
    "cv.destroyAllWindows()"
   ]
  },
  {
   "cell_type": "code",
   "execution_count": null,
   "metadata": {},
   "outputs": [],
   "source": []
  },
  {
   "cell_type": "code",
   "execution_count": null,
   "metadata": {},
   "outputs": [],
   "source": []
  },
  {
   "cell_type": "code",
   "execution_count": null,
   "metadata": {},
   "outputs": [],
   "source": []
  },
  {
   "cell_type": "code",
   "execution_count": null,
   "metadata": {},
   "outputs": [],
   "source": []
  }
 ],
 "metadata": {
  "kernelspec": {
   "display_name": "Python 3",
   "language": "python",
   "name": "python3"
  },
  "language_info": {
   "codemirror_mode": {
    "name": "ipython",
    "version": 3
   },
   "file_extension": ".py",
   "mimetype": "text/x-python",
   "name": "python",
   "nbconvert_exporter": "python",
   "pygments_lexer": "ipython3",
   "version": "3.7.6"
  }
 },
 "nbformat": 4,
 "nbformat_minor": 4
}
