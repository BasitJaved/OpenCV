{
 "cells": [
  {
   "cell_type": "markdown",
   "metadata": {},
   "source": [
    "# OpenCV Tutorial"
   ]
  },
  {
   "cell_type": "markdown",
   "metadata": {},
   "source": [
    "In this Tutorial of OpenCv we will discuss\n",
    "\n",
    "\n",
    "Importing OpenCV\n",
    "\n",
    "Reading an Image\n",
    "\n",
    "Changing the colorspace of image from BGR (as images are read in BGR instead of RGB) to HSV\n",
    "\n",
    "Defining a function to display an image and using that function to view an image\n",
    "\n",
    "Cropping an image\n",
    "\n",
    "Resizing an image\n",
    "\n",
    "Rotating an image\n",
    "\n",
    "Converting and RGB image into a Grayscale image\n",
    "\n",
    "Blurrring image\n",
    "\n",
    "Drawing a rectangular/bounding box in image\n",
    "\n",
    "Drawing a line between objects in an image\n",
    "\n",
    "Writing on an image\n",
    "\n",
    "Saving image"
   ]
  },
  {
   "cell_type": "code",
   "execution_count": 1,
   "metadata": {},
   "outputs": [],
   "source": [
    "#Importing OpenCV\n",
    "import cv2"
   ]
  },
  {
   "cell_type": "code",
   "execution_count": 2,
   "metadata": {},
   "outputs": [],
   "source": [
    "image = cv2.imread('agera1.jpg') #reading an image\n",
    "image1 = cv2.imread('agera12.jpg')\n",
    "image2 = cv2.imread('cat1.jpg') \n",
    "image3 = cv2.imread('cat2.jpg')\n",
    "image4 = cv2.imread('cat3.jpg')\n",
    "image5 = cv2.imread('cat4.jpg')\n",
    "# Note: Reading image in this way will result in colorspace to be in BGR instead of RGB"
   ]
  },
  {
   "cell_type": "code",
   "execution_count": 3,
   "metadata": {},
   "outputs": [],
   "source": [
    "#Displaying an Image\n",
    "cv2.imshow('agera1', image1) # first argument is name of image window and second argument is image veriable\n",
    "cv2.waitKey(0)\n",
    "cv2.destroyAllWindows()"
   ]
  },
  {
   "cell_type": "code",
   "execution_count": 4,
   "metadata": {},
   "outputs": [],
   "source": [
    "#Reading image in this way will result in colorspace to be in BGR instead of RGB, to change it back to RBG\n",
    "hsv_image = cv2.cvtColor(image, cv2.COLOR_BGR2HSV)\n",
    "cv2.imshow('im', hsv_image)  #displaying the converted image\n",
    "cv2.waitKey(0)\n",
    "cv2.destroyAllWindows()"
   ]
  },
  {
   "cell_type": "code",
   "execution_count": 4,
   "metadata": {},
   "outputs": [],
   "source": [
    "#defining function to view image\n",
    "def vim(image, nameofwindow):\n",
    "    cv2.namedWindow(nameofwindow, cv2.WINDOW_NORMAL)\n",
    "    cv2.imshow(nameofwindow, image)\n",
    "    cv2.waitKey(0)\n",
    "    cv2.destroyAllWindows()\n",
    "\n",
    "vim(image, 'im') #using image view function"
   ]
  },
  {
   "cell_type": "code",
   "execution_count": 6,
   "metadata": {},
   "outputs": [],
   "source": [
    "#cropping image\n",
    "cropped = image[10:500, 600:5000]   #image[y:y+h, x:x+w]\n",
    "vim(cropped, 'imc')                 #viewing cropped image"
   ]
  },
  {
   "cell_type": "code",
   "execution_count": 7,
   "metadata": {},
   "outputs": [],
   "source": [
    "#Resizing\n",
    "scale_percent = 20 #20 % of original size\n",
    "width = int((image.shape[1] * scale_percent)/100)\n",
    "height = int((image.shape[0] * scale_percent)/100)\n",
    "dim = (width, height)\n",
    "\n",
    "resize = cv2.resize(image, dim, interpolation = cv2.INTER_AREA)\n",
    "\n",
    "vim(resize, 'imr20')            #viewing resized image"
   ]
  },
  {
   "cell_type": "code",
   "execution_count": 8,
   "metadata": {},
   "outputs": [],
   "source": [
    "#Rotating\n",
    "(h, w, d) = image.shape\n",
    "center = (w//2, h//2)\n",
    "M = cv2.getRotationMatrix2D(center, 270, 1.0)\n",
    "rotated = cv2.warpAffine(image, M, (w,h))\n",
    "\n",
    "vim(rotated, 'imro')            #viewing rotated image"
   ]
  },
  {
   "cell_type": "code",
   "execution_count": 7,
   "metadata": {},
   "outputs": [],
   "source": [
    "# Converting and RGB image into a Grayscale image\n",
    "gray_image = cv2.cvtColor(image, cv2.COLOR_BGR2GRAY)\n",
    "ret, threshold_image = cv2.threshold(image, 127,255,0)\n",
    "vim(gray_image, 'imgr')\n",
    "\n",
    "vim(threshold_image, 'imth')    #viewing converted image"
   ]
  },
  {
   "cell_type": "code",
   "execution_count": 10,
   "metadata": {},
   "outputs": [],
   "source": [
    "# Blurrring image\n",
    "blurred = cv2.GaussianBlur(image, (51, 51), 0) #image(image to be blurred), (51, 51) increasing these numbers will increase blur, third parameter is sigmaX, and sigmaY \n",
    "\n",
    "vim(blurred, 'imblr')           #Viewing Blurred Image"
   ]
  },
  {
   "cell_type": "code",
   "execution_count": 11,
   "metadata": {},
   "outputs": [],
   "source": [
    "# Drawing a rectangular/bounding box in image\n",
    "output = image3.copy()\n",
    "cv2.rectangle(output, (200, 50), (800, 510), (10, 255, 255), 3) #(image, (x1, y1), (x2, y2), BGR(255, 255,255), thickness of rectangle)\n",
    "\n",
    "vim(output, 'imrb')             #Viewing"
   ]
  },
  {
   "cell_type": "code",
   "execution_count": 12,
   "metadata": {},
   "outputs": [],
   "source": [
    "# Drawing a line between objects in an image\n",
    "output1 = image5.copy()\n",
    "cv2.line(output1, (480, 50), (480, 600), (10, 255, 255), 5) #(image, (x1, y1), (x2, y2), BGR(255, 255,255), thickness of line)\n",
    "\n",
    "vim(output1, 'iml')            #Viewing"
   ]
  },
  {
   "cell_type": "code",
   "execution_count": 13,
   "metadata": {},
   "outputs": [],
   "source": [
    "# Writing on an image\n",
    "output2 = image1.copy()\n",
    "cv2.putText(output2, 'Agera One',  (10, 100), cv2.FONT_HERSHEY_SIMPLEX, 3, (10, 255, 255), 4)\n",
    "\n",
    "#(image, 'Text', (x, y), font type, font size, BGR(255, 255,255), thickness of line)\n",
    "\n",
    "vim(output2, 'imt')           #Viewing"
   ]
  },
  {
   "cell_type": "code",
   "execution_count": 14,
   "metadata": {},
   "outputs": [
    {
     "data": {
      "text/plain": [
       "True"
      ]
     },
     "execution_count": 14,
     "metadata": {},
     "output_type": "execute_result"
    }
   ],
   "source": [
    "# Saving image\n",
    "cv2.imwrite('save1.jpg', image1)      # First argument name of new image, second argument image to be saved"
   ]
  },
  {
   "cell_type": "markdown",
   "metadata": {},
   "source": [
    "This Tutorial was prepared following Salma Ghoneim's blogpost on Heartbeat....link is\n",
    "\n",
    "https://heartbeat.fritz.ai/opencv-python-cheat-sheet-from-importing-images-to-face-detection-52919da36433"
   ]
  },
  {
   "cell_type": "code",
   "execution_count": null,
   "metadata": {},
   "outputs": [],
   "source": []
  }
 ],
 "metadata": {
  "kernelspec": {
   "display_name": "Python 3",
   "language": "python",
   "name": "python3"
  },
  "language_info": {
   "codemirror_mode": {
    "name": "ipython",
    "version": 3
   },
   "file_extension": ".py",
   "mimetype": "text/x-python",
   "name": "python",
   "nbconvert_exporter": "python",
   "pygments_lexer": "ipython3",
   "version": "3.7.1"
  }
 },
 "nbformat": 4,
 "nbformat_minor": 2
}
