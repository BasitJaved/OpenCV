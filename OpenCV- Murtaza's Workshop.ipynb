{
 "cells": [
  {
   "cell_type": "code",
   "execution_count": 1,
   "metadata": {},
   "outputs": [],
   "source": [
    "import cv2 as cv\n",
    "import numpy as np\n",
    "import matplotlib.pyplot as plt\n",
    "import sys"
   ]
  },
  {
   "cell_type": "code",
   "execution_count": 2,
   "metadata": {},
   "outputs": [],
   "source": [
    "#reading and Displaying images\n",
    "img = cv.imread('00.jpg')\n",
    "cv.imshow('image', img)\n",
    "cv.waitKey(0)\n",
    "cv.destroyAllWindows()"
   ]
  },
  {
   "cell_type": "code",
   "execution_count": 13,
   "metadata": {},
   "outputs": [],
   "source": [
    "#reading and Displaying videos\n",
    "cap = cv.VideoCapture('car2.mp4')\n",
    "\n",
    "while True:\n",
    "    isTrue, frame = cap.read()\n",
    "    cv.imshow('frame', frame)\n",
    "    if cv.waitKey(20) & 0xFF == ord('q'):\n",
    "        break\n",
    "cap.release()\n",
    "cv.destroyAllWindows()"
   ]
  },
  {
   "cell_type": "code",
   "execution_count": null,
   "metadata": {},
   "outputs": [],
   "source": [
    "#function to display multiple images in notebook\n",
    "def show1(img1, img2):\n",
    "    fig = plt.figure(figsize=(20, 20))\n",
    "    img1 = cv.cvtColor(img1, cv.COLOR_BGR2RGB)\n",
    "    ax = fig.add_subplot(1, 2, 1)\n",
    "    plt.imshow(img1)\n",
    "    plt.title('Image')\n",
    "    plt.xticks([])\n",
    "    plt.yticks([])\n",
    "    \n",
    "    img2 = cv.cvtColor(img2, cv.COLOR_BGR2RGB)\n",
    "    ax = fig.add_subplot(1, 2, 2)\n",
    "    plt.imshow(img2)\n",
    "    plt.title('Resulting Image')\n",
    "    plt.xticks([])\n",
    "    plt.yticks([])"
   ]
  }
 ],
 "metadata": {
  "kernelspec": {
   "display_name": "Python 3",
   "language": "python",
   "name": "python3"
  },
  "language_info": {
   "codemirror_mode": {
    "name": "ipython",
    "version": 3
   },
   "file_extension": ".py",
   "mimetype": "text/x-python",
   "name": "python",
   "nbconvert_exporter": "python",
   "pygments_lexer": "ipython3",
   "version": "3.7.6"
  }
 },
 "nbformat": 4,
 "nbformat_minor": 4
}
